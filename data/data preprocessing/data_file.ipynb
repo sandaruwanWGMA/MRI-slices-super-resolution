{
 "cells": [
  {
   "cell_type": "code",
   "execution_count": 1,
   "metadata": {},
   "outputs": [],
   "source": [
    "import nibabel as nib\n",
    "import pandas as pd\n",
    "import os"
   ]
  },
  {
   "cell_type": "code",
   "execution_count": 6,
   "metadata": {},
   "outputs": [
    {
     "name": "stdout",
     "output_type": "stream",
     "text": [
      "File loaded successfully\n",
      "[[[1897. 2132. 2272. ... 2051. 1825.    0.]\n",
      "  [2185. 2376. 1843. ... 1963. 1701.    0.]\n",
      "  [2193. 1901. 2183. ... 1743. 2487.    0.]\n",
      "  ...\n",
      "  [1766. 2342. 1893. ... 1983. 1937.    0.]\n",
      "  [1889. 1950. 1914. ... 1967. 1856.    0.]\n",
      "  [   0.    0.    0. ...    0.    0.    0.]]\n",
      "\n",
      " [[1963. 1625. 1657. ... 1998. 1873.    0.]\n",
      "  [1960. 1887. 2008. ... 1778. 1889.    0.]\n",
      "  [2381. 1624. 2311. ... 1819. 1727.    0.]\n",
      "  ...\n",
      "  [2273. 1781. 1534. ... 1788. 2101.    0.]\n",
      "  [1789. 1574. 1668. ... 1845. 2230.    0.]\n",
      "  [   0.    0.    0. ...    0.    0.    0.]]\n",
      "\n",
      " [[2027. 2026. 1808. ... 2128. 1974.    0.]\n",
      "  [1696. 2102. 2227. ... 1980. 1832.    0.]\n",
      "  [1893. 1989. 1986. ... 1589. 2121.    0.]\n",
      "  ...\n",
      "  [   0.    0.    0. ... 1897. 1653.    0.]\n",
      "  [   0.    0.    0. ... 2153. 2079.    0.]\n",
      "  [   0.    0.    0. ...    0.    0.    0.]]\n",
      "\n",
      " ...\n",
      "\n",
      " [[1684. 2165. 1993. ... 1921. 1984.    0.]\n",
      "  [1910. 2004. 1827. ... 2117. 2640.    0.]\n",
      "  [1724. 1744. 2167. ... 1735. 2093.    0.]\n",
      "  ...\n",
      "  [1811. 1958. 2372. ... 1857. 1764.    0.]\n",
      "  [1805. 1815. 2253. ... 1893. 1687.    0.]\n",
      "  [   0.    0.    0. ...    0.    0.    0.]]\n",
      "\n",
      " [[2128. 1919. 1835. ... 1877. 1953.    0.]\n",
      "  [1864. 1913. 1641. ... 1923. 1980.    0.]\n",
      "  [1903. 2045. 1837. ... 1685. 2064.    0.]\n",
      "  ...\n",
      "  [1616. 2238. 1952. ... 2070. 1691.    0.]\n",
      "  [1585. 2241. 2414. ... 2062. 1888.    0.]\n",
      "  [   0.    0.    0. ...    0.    0.    0.]]\n",
      "\n",
      " [[1591. 2059. 2232. ... 2161. 1972.    0.]\n",
      "  [1554. 1999. 1968. ... 2158. 2200.    0.]\n",
      "  [1664. 2204. 1835. ... 2010. 2187.    0.]\n",
      "  ...\n",
      "  [1991. 1756. 2039. ... 1515. 1790.    0.]\n",
      "  [1732. 2421. 2059. ... 2154. 1928.    0.]\n",
      "  [   0.    0.    0. ...    0.    0.    0.]]]\n"
     ]
    }
   ],
   "source": [
    "import os\n",
    "import nibabel as nib\n",
    "\n",
    "# Path to the NIfTI file\n",
    "file_path = \"/Users/molinduachintha/Documents/Work/MRI slices super resolution/datasets/train/downsampled_and_without_rotations_sub-HC001_ses-01_acq-mp2rage_T1map.nii.gz\"\n",
    "\n",
    "# Check if the file exists at the given path\n",
    "if os.path.exists(file_path):\n",
    "    # Load the NIfTI file using nibabel\n",
    "    nib_file = nib.load(file_path)\n",
    "    print(\"File loaded successfully\")\n",
    "\n",
    "    # To print the image data matrix, you can access the get_fdata() method\n",
    "    data = nib_file.get_fdata()\n",
    "    print(data)\n",
    "else:\n",
    "    print(f\"File does not exist at path: {file_path}\")"
   ]
  },
  {
   "cell_type": "code",
   "execution_count": 9,
   "metadata": {},
   "outputs": [
    {
     "data": {
      "text/plain": [
       "(48, 320, 320)"
      ]
     },
     "execution_count": 9,
     "metadata": {},
     "output_type": "execute_result"
    }
   ],
   "source": [
    "data.shape"
   ]
  },
  {
   "cell_type": "code",
   "execution_count": null,
   "metadata": {},
   "outputs": [],
   "source": []
  }
 ],
 "metadata": {
  "kernelspec": {
   "display_name": "molindu_work_env",
   "language": "python",
   "name": "python3"
  },
  "language_info": {
   "codemirror_mode": {
    "name": "ipython",
    "version": 3
   },
   "file_extension": ".py",
   "mimetype": "text/x-python",
   "name": "python",
   "nbconvert_exporter": "python",
   "pygments_lexer": "ipython3",
   "version": "3.9.19"
  }
 },
 "nbformat": 4,
 "nbformat_minor": 2
}
